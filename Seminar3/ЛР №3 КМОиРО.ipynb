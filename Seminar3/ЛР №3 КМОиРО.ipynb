{
 "cells": [
  {
   "cell_type": "markdown",
   "metadata": {},
   "source": [
    "# ЛР №3 по курсу \"Распознавание образов и классическое машинное обучение\"\n",
    "\n",
    "## Метод Главных Компонент (МГК)."
   ]
  },
  {
   "cell_type": "code",
   "execution_count": null,
   "metadata": {
    "id": "KDKnYuLeiCZy"
   },
   "outputs": [],
   "source": [
    "import numpy as np\n",
    "import pandas as pd\n",
    "from sklearn.preprocessing import StandardScaler\n",
    "from sklearn.decomposition import PCA\n",
    "from scipy.linalg import svd"
   ]
  },
  {
   "cell_type": "markdown",
   "metadata": {},
   "source": [
    "Дано 2 матрицы:"
   ]
  },
  {
   "cell_type": "code",
   "execution_count": null,
   "metadata": {
    "colab": {
     "base_uri": "https://localhost:8080/",
     "height": 331
    },
    "executionInfo": {
     "elapsed": 306,
     "status": "ok",
     "timestamp": 1652549133131,
     "user": {
      "displayName": "Data Analisis",
      "userId": "16579608949656959396"
     },
     "user_tz": -180
    },
    "id": "oJsY_gxnl1RK",
    "outputId": "b6042bd4-e5d1-4d49-d004-148a0439d359"
   },
   "outputs": [
    {
     "data": {
      "text/html": [
       "\n",
       "  <div id=\"df-a0692f97-a358-4058-bad5-7e69a038dad2\">\n",
       "    <div class=\"colab-df-container\">\n",
       "      <div>\n",
       "<style scoped>\n",
       "    .dataframe tbody tr th:only-of-type {\n",
       "        vertical-align: middle;\n",
       "    }\n",
       "\n",
       "    .dataframe tbody tr th {\n",
       "        vertical-align: top;\n",
       "    }\n",
       "\n",
       "    .dataframe thead th {\n",
       "        text-align: right;\n",
       "    }\n",
       "</style>\n",
       "<table border=\"1\" class=\"dataframe\">\n",
       "  <thead>\n",
       "    <tr style=\"text-align: right;\">\n",
       "      <th></th>\n",
       "      <th>x1</th>\n",
       "      <th>x2</th>\n",
       "      <th>x3</th>\n",
       "      <th>x4</th>\n",
       "    </tr>\n",
       "  </thead>\n",
       "  <tbody>\n",
       "    <tr>\n",
       "      <th>0</th>\n",
       "      <td>1.0</td>\n",
       "      <td>2.0</td>\n",
       "      <td>6.0</td>\n",
       "      <td>7.0</td>\n",
       "    </tr>\n",
       "    <tr>\n",
       "      <th>1</th>\n",
       "      <td>4.5</td>\n",
       "      <td>4.0</td>\n",
       "      <td>7.0</td>\n",
       "      <td>8.9</td>\n",
       "    </tr>\n",
       "    <tr>\n",
       "      <th>2</th>\n",
       "      <td>1.3</td>\n",
       "      <td>4.5</td>\n",
       "      <td>6.0</td>\n",
       "      <td>8.0</td>\n",
       "    </tr>\n",
       "    <tr>\n",
       "      <th>3</th>\n",
       "      <td>1.3</td>\n",
       "      <td>5.0</td>\n",
       "      <td>7.0</td>\n",
       "      <td>8.0</td>\n",
       "    </tr>\n",
       "    <tr>\n",
       "      <th>4</th>\n",
       "      <td>1.0</td>\n",
       "      <td>2.5</td>\n",
       "      <td>8.9</td>\n",
       "      <td>5.5</td>\n",
       "    </tr>\n",
       "    <tr>\n",
       "      <th>5</th>\n",
       "      <td>6.7</td>\n",
       "      <td>4.5</td>\n",
       "      <td>3.7</td>\n",
       "      <td>8.0</td>\n",
       "    </tr>\n",
       "    <tr>\n",
       "      <th>6</th>\n",
       "      <td>3.6</td>\n",
       "      <td>8.0</td>\n",
       "      <td>1.2</td>\n",
       "      <td>3.4</td>\n",
       "    </tr>\n",
       "    <tr>\n",
       "      <th>7</th>\n",
       "      <td>7.7</td>\n",
       "      <td>7.8</td>\n",
       "      <td>3.0</td>\n",
       "      <td>3.0</td>\n",
       "    </tr>\n",
       "    <tr>\n",
       "      <th>8</th>\n",
       "      <td>4.6</td>\n",
       "      <td>3.7</td>\n",
       "      <td>2.5</td>\n",
       "      <td>2.0</td>\n",
       "    </tr>\n",
       "  </tbody>\n",
       "</table>\n",
       "</div>\n",
       "      <button class=\"colab-df-convert\" onclick=\"convertToInteractive('df-a0692f97-a358-4058-bad5-7e69a038dad2')\"\n",
       "              title=\"Convert this dataframe to an interactive table.\"\n",
       "              style=\"display:none;\">\n",
       "        \n",
       "  <svg xmlns=\"http://www.w3.org/2000/svg\" height=\"24px\"viewBox=\"0 0 24 24\"\n",
       "       width=\"24px\">\n",
       "    <path d=\"M0 0h24v24H0V0z\" fill=\"none\"/>\n",
       "    <path d=\"M18.56 5.44l.94 2.06.94-2.06 2.06-.94-2.06-.94-.94-2.06-.94 2.06-2.06.94zm-11 1L8.5 8.5l.94-2.06 2.06-.94-2.06-.94L8.5 2.5l-.94 2.06-2.06.94zm10 10l.94 2.06.94-2.06 2.06-.94-2.06-.94-.94-2.06-.94 2.06-2.06.94z\"/><path d=\"M17.41 7.96l-1.37-1.37c-.4-.4-.92-.59-1.43-.59-.52 0-1.04.2-1.43.59L10.3 9.45l-7.72 7.72c-.78.78-.78 2.05 0 2.83L4 21.41c.39.39.9.59 1.41.59.51 0 1.02-.2 1.41-.59l7.78-7.78 2.81-2.81c.8-.78.8-2.07 0-2.86zM5.41 20L4 18.59l7.72-7.72 1.47 1.35L5.41 20z\"/>\n",
       "  </svg>\n",
       "      </button>\n",
       "      \n",
       "  <style>\n",
       "    .colab-df-container {\n",
       "      display:flex;\n",
       "      flex-wrap:wrap;\n",
       "      gap: 12px;\n",
       "    }\n",
       "\n",
       "    .colab-df-convert {\n",
       "      background-color: #E8F0FE;\n",
       "      border: none;\n",
       "      border-radius: 50%;\n",
       "      cursor: pointer;\n",
       "      display: none;\n",
       "      fill: #1967D2;\n",
       "      height: 32px;\n",
       "      padding: 0 0 0 0;\n",
       "      width: 32px;\n",
       "    }\n",
       "\n",
       "    .colab-df-convert:hover {\n",
       "      background-color: #E2EBFA;\n",
       "      box-shadow: 0px 1px 2px rgba(60, 64, 67, 0.3), 0px 1px 3px 1px rgba(60, 64, 67, 0.15);\n",
       "      fill: #174EA6;\n",
       "    }\n",
       "\n",
       "    [theme=dark] .colab-df-convert {\n",
       "      background-color: #3B4455;\n",
       "      fill: #D2E3FC;\n",
       "    }\n",
       "\n",
       "    [theme=dark] .colab-df-convert:hover {\n",
       "      background-color: #434B5C;\n",
       "      box-shadow: 0px 1px 3px 1px rgba(0, 0, 0, 0.15);\n",
       "      filter: drop-shadow(0px 1px 2px rgba(0, 0, 0, 0.3));\n",
       "      fill: #FFFFFF;\n",
       "    }\n",
       "  </style>\n",
       "\n",
       "      <script>\n",
       "        const buttonEl =\n",
       "          document.querySelector('#df-a0692f97-a358-4058-bad5-7e69a038dad2 button.colab-df-convert');\n",
       "        buttonEl.style.display =\n",
       "          google.colab.kernel.accessAllowed ? 'block' : 'none';\n",
       "\n",
       "        async function convertToInteractive(key) {\n",
       "          const element = document.querySelector('#df-a0692f97-a358-4058-bad5-7e69a038dad2');\n",
       "          const dataTable =\n",
       "            await google.colab.kernel.invokeFunction('convertToInteractive',\n",
       "                                                     [key], {});\n",
       "          if (!dataTable) return;\n",
       "\n",
       "          const docLinkHtml = 'Like what you see? Visit the ' +\n",
       "            '<a target=\"_blank\" href=https://colab.research.google.com/notebooks/data_table.ipynb>data table notebook</a>'\n",
       "            + ' to learn more about interactive tables.';\n",
       "          element.innerHTML = '';\n",
       "          dataTable['output_type'] = 'display_data';\n",
       "          await google.colab.output.renderOutput(dataTable, element);\n",
       "          const docLink = document.createElement('div');\n",
       "          docLink.innerHTML = docLinkHtml;\n",
       "          element.appendChild(docLink);\n",
       "        }\n",
       "      </script>\n",
       "    </div>\n",
       "  </div>\n",
       "  "
      ],
      "text/plain": [
       "    x1   x2   x3   x4\n",
       "0  1.0  2.0  6.0  7.0\n",
       "1  4.5  4.0  7.0  8.9\n",
       "2  1.3  4.5  6.0  8.0\n",
       "3  1.3  5.0  7.0  8.0\n",
       "4  1.0  2.5  8.9  5.5\n",
       "5  6.7  4.5  3.7  8.0\n",
       "6  3.6  8.0  1.2  3.4\n",
       "7  7.7  7.8  3.0  3.0\n",
       "8  4.6  3.7  2.5  2.0"
      ]
     },
     "execution_count": 4,
     "metadata": {},
     "output_type": "execute_result"
    }
   ],
   "source": [
    "M1=np.array([[1,2,6,7],\n",
    "             [4.5,4,7,8.9],\n",
    "             [1.3,4.5,6,8],\n",
    "             [1.3,5,7,8],\n",
    "             [1,2.5,8.9,5.5],\n",
    "             [6.7,4.5,3.7,8],\n",
    "             [3.6,8,1.2,3.4],\n",
    "             [7.7,7.8,3,3],\n",
    "             [4.6,3.7,2.5,2]])\n",
    "df1=pd.DataFrame(M1,columns=['x1','x2','x3','x4'])\n",
    "df1"
   ]
  },
  {
   "cell_type": "code",
   "execution_count": null,
   "metadata": {
    "colab": {
     "base_uri": "https://localhost:8080/",
     "height": 174
    },
    "executionInfo": {
     "elapsed": 21,
     "status": "ok",
     "timestamp": 1652549171308,
     "user": {
      "displayName": "Data Analisis",
      "userId": "16579608949656959396"
     },
     "user_tz": -180
    },
    "id": "TfG_X-aPlLqk",
    "outputId": "4c302234-aa6b-467f-dd33-6c07b4d49199"
   },
   "outputs": [
    {
     "data": {
      "text/html": [
       "\n",
       "  <div id=\"df-a4816a38-931b-4a04-854e-4b4532975243\">\n",
       "    <div class=\"colab-df-container\">\n",
       "      <div>\n",
       "<style scoped>\n",
       "    .dataframe tbody tr th:only-of-type {\n",
       "        vertical-align: middle;\n",
       "    }\n",
       "\n",
       "    .dataframe tbody tr th {\n",
       "        vertical-align: top;\n",
       "    }\n",
       "\n",
       "    .dataframe thead th {\n",
       "        text-align: right;\n",
       "    }\n",
       "</style>\n",
       "<table border=\"1\" class=\"dataframe\">\n",
       "  <thead>\n",
       "    <tr style=\"text-align: right;\">\n",
       "      <th></th>\n",
       "      <th>x1</th>\n",
       "      <th>x2</th>\n",
       "      <th>x3</th>\n",
       "      <th>x4</th>\n",
       "      <th>x5</th>\n",
       "      <th>x6</th>\n",
       "      <th>x7</th>\n",
       "      <th>x8</th>\n",
       "      <th>x9</th>\n",
       "    </tr>\n",
       "  </thead>\n",
       "  <tbody>\n",
       "    <tr>\n",
       "      <th>0</th>\n",
       "      <td>1.0</td>\n",
       "      <td>3.5</td>\n",
       "      <td>5.6</td>\n",
       "      <td>7.0</td>\n",
       "      <td>8.0</td>\n",
       "      <td>1.0</td>\n",
       "      <td>2.0</td>\n",
       "      <td>3.0</td>\n",
       "      <td>4.0</td>\n",
       "    </tr>\n",
       "    <tr>\n",
       "      <th>1</th>\n",
       "      <td>5.5</td>\n",
       "      <td>6.4</td>\n",
       "      <td>1.3</td>\n",
       "      <td>3.0</td>\n",
       "      <td>4.0</td>\n",
       "      <td>7.8</td>\n",
       "      <td>4.5</td>\n",
       "      <td>2.0</td>\n",
       "      <td>9.0</td>\n",
       "    </tr>\n",
       "    <tr>\n",
       "      <th>2</th>\n",
       "      <td>5.4</td>\n",
       "      <td>4.7</td>\n",
       "      <td>4.8</td>\n",
       "      <td>3.8</td>\n",
       "      <td>2.0</td>\n",
       "      <td>2.0</td>\n",
       "      <td>7.0</td>\n",
       "      <td>8.9</td>\n",
       "      <td>9.0</td>\n",
       "    </tr>\n",
       "    <tr>\n",
       "      <th>3</th>\n",
       "      <td>1.0</td>\n",
       "      <td>3.0</td>\n",
       "      <td>4.0</td>\n",
       "      <td>6.0</td>\n",
       "      <td>7.7</td>\n",
       "      <td>4.7</td>\n",
       "      <td>5.6</td>\n",
       "      <td>9.0</td>\n",
       "      <td>2.0</td>\n",
       "    </tr>\n",
       "  </tbody>\n",
       "</table>\n",
       "</div>\n",
       "      <button class=\"colab-df-convert\" onclick=\"convertToInteractive('df-a4816a38-931b-4a04-854e-4b4532975243')\"\n",
       "              title=\"Convert this dataframe to an interactive table.\"\n",
       "              style=\"display:none;\">\n",
       "        \n",
       "  <svg xmlns=\"http://www.w3.org/2000/svg\" height=\"24px\"viewBox=\"0 0 24 24\"\n",
       "       width=\"24px\">\n",
       "    <path d=\"M0 0h24v24H0V0z\" fill=\"none\"/>\n",
       "    <path d=\"M18.56 5.44l.94 2.06.94-2.06 2.06-.94-2.06-.94-.94-2.06-.94 2.06-2.06.94zm-11 1L8.5 8.5l.94-2.06 2.06-.94-2.06-.94L8.5 2.5l-.94 2.06-2.06.94zm10 10l.94 2.06.94-2.06 2.06-.94-2.06-.94-.94-2.06-.94 2.06-2.06.94z\"/><path d=\"M17.41 7.96l-1.37-1.37c-.4-.4-.92-.59-1.43-.59-.52 0-1.04.2-1.43.59L10.3 9.45l-7.72 7.72c-.78.78-.78 2.05 0 2.83L4 21.41c.39.39.9.59 1.41.59.51 0 1.02-.2 1.41-.59l7.78-7.78 2.81-2.81c.8-.78.8-2.07 0-2.86zM5.41 20L4 18.59l7.72-7.72 1.47 1.35L5.41 20z\"/>\n",
       "  </svg>\n",
       "      </button>\n",
       "      \n",
       "  <style>\n",
       "    .colab-df-container {\n",
       "      display:flex;\n",
       "      flex-wrap:wrap;\n",
       "      gap: 12px;\n",
       "    }\n",
       "\n",
       "    .colab-df-convert {\n",
       "      background-color: #E8F0FE;\n",
       "      border: none;\n",
       "      border-radius: 50%;\n",
       "      cursor: pointer;\n",
       "      display: none;\n",
       "      fill: #1967D2;\n",
       "      height: 32px;\n",
       "      padding: 0 0 0 0;\n",
       "      width: 32px;\n",
       "    }\n",
       "\n",
       "    .colab-df-convert:hover {\n",
       "      background-color: #E2EBFA;\n",
       "      box-shadow: 0px 1px 2px rgba(60, 64, 67, 0.3), 0px 1px 3px 1px rgba(60, 64, 67, 0.15);\n",
       "      fill: #174EA6;\n",
       "    }\n",
       "\n",
       "    [theme=dark] .colab-df-convert {\n",
       "      background-color: #3B4455;\n",
       "      fill: #D2E3FC;\n",
       "    }\n",
       "\n",
       "    [theme=dark] .colab-df-convert:hover {\n",
       "      background-color: #434B5C;\n",
       "      box-shadow: 0px 1px 3px 1px rgba(0, 0, 0, 0.15);\n",
       "      filter: drop-shadow(0px 1px 2px rgba(0, 0, 0, 0.3));\n",
       "      fill: #FFFFFF;\n",
       "    }\n",
       "  </style>\n",
       "\n",
       "      <script>\n",
       "        const buttonEl =\n",
       "          document.querySelector('#df-a4816a38-931b-4a04-854e-4b4532975243 button.colab-df-convert');\n",
       "        buttonEl.style.display =\n",
       "          google.colab.kernel.accessAllowed ? 'block' : 'none';\n",
       "\n",
       "        async function convertToInteractive(key) {\n",
       "          const element = document.querySelector('#df-a4816a38-931b-4a04-854e-4b4532975243');\n",
       "          const dataTable =\n",
       "            await google.colab.kernel.invokeFunction('convertToInteractive',\n",
       "                                                     [key], {});\n",
       "          if (!dataTable) return;\n",
       "\n",
       "          const docLinkHtml = 'Like what you see? Visit the ' +\n",
       "            '<a target=\"_blank\" href=https://colab.research.google.com/notebooks/data_table.ipynb>data table notebook</a>'\n",
       "            + ' to learn more about interactive tables.';\n",
       "          element.innerHTML = '';\n",
       "          dataTable['output_type'] = 'display_data';\n",
       "          await google.colab.output.renderOutput(dataTable, element);\n",
       "          const docLink = document.createElement('div');\n",
       "          docLink.innerHTML = docLinkHtml;\n",
       "          element.appendChild(docLink);\n",
       "        }\n",
       "      </script>\n",
       "    </div>\n",
       "  </div>\n",
       "  "
      ],
      "text/plain": [
       "    x1   x2   x3   x4   x5   x6   x7   x8   x9\n",
       "0  1.0  3.5  5.6  7.0  8.0  1.0  2.0  3.0  4.0\n",
       "1  5.5  6.4  1.3  3.0  4.0  7.8  4.5  2.0  9.0\n",
       "2  5.4  4.7  4.8  3.8  2.0  2.0  7.0  8.9  9.0\n",
       "3  1.0  3.0  4.0  6.0  7.7  4.7  5.6  9.0  2.0"
      ]
     },
     "execution_count": 5,
     "metadata": {},
     "output_type": "execute_result"
    }
   ],
   "source": [
    "M2=np.array([[1,3.5,5.6,7,8,1,2,3,4],\n",
    "             [5.5,6.4,1.3,3,4,7.8,4.5,2,9],\n",
    "             [5.4,4.7,4.8,3.8,2,2,7,8.9,9],\n",
    "             [1,3,4,6,7.7,4.7,5.6,9,2]])\n",
    "\n",
    "df2=pd.DataFrame(M2,columns=['x1','x2','x3','x4','x5','x6','x7','x8','x9'])\n",
    "df2"
   ]
  },
  {
   "cell_type": "markdown",
   "metadata": {
    "id": "R_4yJk87oSIR"
   },
   "source": [
    "# 1. Реализовать МГК по шагам\n",
    "\n",
    "\n"
   ]
  },
  {
   "cell_type": "markdown",
   "metadata": {
    "id": "Y0YwEngaBnZW"
   },
   "source": [
    "![1.PNG](data:image/png;base64,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)"
   ]
  },
  {
   "cell_type": "markdown",
   "metadata": {
    "id": "I_qzOLbFBnZb"
   },
   "source": [
    "![2.PNG](data:image/png;base64,iVBORw0KGgoAAAANSUhEUgAAAHQAAAA0CAYAAABbwhxLAAAAAXNSR0IArs4c6QAAAARnQU1BAACxjwv8YQUAAAAJcEhZcwAADsMAAA7DAcdvqGQAAAKwSURBVHhe7ZcBrfIwGEWRgAYkoAEJaEACHpCABiSgAQloQMJeDtn3p2m6Ad2g+2/uSZbHyrbX2/O1HavOSGGhYlioGBYqhoWKYaFiWKgYFiqGhYphoWJYqBgWKoaFimGhYlioGBYqhoWKYaFiWKgYFirGfyX0fD73n9rweDyefbjf733LNL6Rp1oondnv991qtXoel8ul/2aY0+n0vHa9Xne73e6te1K453a79WdtIDcZrtdr31LPN/JMnqEh9Xg89i1l6HhcOzQYzIDtdtttNpviwb183xr6goxXtMgzSShLDxXLjEPWGOmMroHZ/ep//IpYaRBWy7fyTBKKJKRSrWOVxnWEj6W2hjmWuLkgM0KRUsu38kwSejgc/v1FVgnC0/k5BmFJxFK6NGYRGktQiRAYLxNDLwHMYK7lYCmKQuCc/TmesxSWmqdaKB0kFPC2WgpHe+wzY/sn16QvVTyX6o/QfH7n5YFncN0nRxTlp9Bn8pReBufKU0O1UDqJVIjlNP0ZQqj0fGz/JHyIB855XrTxnPhfS4HiJVNpq2mZp1poXtl0OF1G0s8hfGiZScMD1Vv78vQLkEn/EEOu/AWnZZ7ZhFKp0ZZX4Kv9JmdMfmvIgKCQRu5XPz9+madKKLJi/wwIGUHz7whcWppKMGAl+XnVl2BpY3/65HglI4WZSI60WCli+jvElDw1VAlN98+AYIQtVSLtY0sOMzoCcn8+QLR9awDeJWTmYkIYGYKWeaqEUtk50fGhwHxfgoFKBwTx6QCUVoNfk/cxh/GIgm2d5yOhsXTSQUKkkgiQnxMmvZ7788rknHbu5eCcvyyfBG8tE8iRZsshKxmR1TpP1Qw1y8VCxbBQMSxUDAsVw0LFsFAxLFQMCxXDQsWwUDEsVAwLFcNCxbBQMSxUDAuVouv+AGrzsFJFrQD+AAAAAElFTkSuQmCC)"
   ]
  },
  {
   "cell_type": "markdown",
   "metadata": {
    "id": "9bm8w1P9q9lt"
   },
   "source": [
    "  Шаг 1. Подготовка данных: стандартизация \"вручную\" (по формуле) и с использованием StandardScaler, сравнить результаты\n",
    "\n",
    "  Шаг 2. Построить матрицу ковариации \"вручную\" (по формуле) и с использованием numpy, сравнить результаты, объяснить, что значат элементы матрицы\n",
    "\n",
    "  Шаг 3. Найти собственные вектора и собственные значения с использованием numpy.linalg\n",
    "\n",
    "  Шаг 4. Найти главные компонеты по формуле, чему равно количество гланвых компонет?\n",
    "\n",
    "  Шаг 5. Построить кумулятивный график суммы ообъясненной дисперсии, какое количество главных объясняет 90% диспресии?\n",
    "  \n",
    "  Шаг 6. Восстановить исходные данные из всего набор главных и из набора на предыдущем шаге, объяснить полученный результат."
   ]
  },
  {
   "cell_type": "markdown",
   "metadata": {
    "id": "hbShlRv7q-c7"
   },
   "source": [
    "# 2. Реализовать МГК с использованием библиотеки sklearn PCA"
   ]
  },
  {
   "cell_type": "markdown",
   "metadata": {
    "id": "17H2XLHfe3gX"
   },
   "source": [
    "https://stats.stackexchange.com/questions/134282/relationship-between-svd-and-pca-how-to-use-svd-to-perform-pca"
   ]
  },
  {
   "cell_type": "markdown",
   "metadata": {
    "id": "_pwOQx4zrdvp"
   },
   "source": [
    "  - Использовать стандартизованные данные\n",
    "\n",
    "  Шаг 1. Вывести собственные вектора и собственные значения с использованием sklearn PCA\n",
    "\n",
    "  Шаг 2. Найти главные компонеты с использованием sklearn PCA (показать как они получаются - можно взять из семинара (Компонета представляет собой линейную комбинацию исходных\n",
    "переменных)), чему равно количество главных компонет?\n",
    "\n",
    "  Шаг 3. Какое количество главных компонент, которое объясняет 90% диспресии?\n",
    "  \n",
    "  Шаг 4. Восстановить исходные данные из всего набор главных и из набора на предыдущем шаге, объяснить полученный результат.\n",
    "\n",
    "  Сравнить все полученные результаты с результатами из 1 задания."
   ]
  },
  {
   "cell_type": "markdown",
   "metadata": {
    "id": "2ohKAlDuslBi"
   },
   "source": [
    "# 3. Реализовать SVD с использованием numpy svd"
   ]
  },
  {
   "cell_type": "markdown",
   "metadata": {
    "id": "26mYhldVfrK8"
   },
   "source": [
    "Для любой матрицы существует ее SVD-разложение (доказательство сего факта представлено здесь http://www.machinelearning.ru/wiki/images/e/ee/Kitov-ML-eng-04-Singular_value_decomposition.pdf, страница 7)."
   ]
  },
  {
   "cell_type": "markdown",
   "metadata": {
    "id": "pEqH7I2x72FM"
   },
   "source": [
    "![4.PNG](data:image/png;base64,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)\n",
    "\n",
    "U — матрица левых сингулярных векторов в столбцах\n",
    "\n",
    "Σ — диагональная матрица с сингулярными значениями\n",
    "\n",
    "V — матрица правых сингулярных векторов в столбцах"
   ]
  },
  {
   "cell_type": "markdown",
   "metadata": {
    "id": "TW6RnTQ1-Yql"
   },
   "source": [
    "Такое использование SVD очень похоже на анализ главных компонент (PCA), и на самом деле несколько библиотек численного программного обеспечения фактически используют SVD под капотом для своих подпрограмм PCA, например, sklearn.decomposition.PCA в scikit-learn. Это связано с тем, что он более численно стабилен, а также возможно выполнить усеченный SVD, для которого нам нужно только вычислить $U \\Sigma V^T$ для первых $k<n$ признаков; это делает ее вычисление намного быстрее, чем полную ковариационную матрицу, вычисленную в PCA."
   ]
  },
  {
   "cell_type": "markdown",
   "metadata": {
    "id": "NofN03gHMrKv"
   },
   "source": [
    "Обратите внимание, что некоторые знаки перевернуты, это нормально из-за заявленной ранее неоднозначности разложения."
   ]
  },
  {
   "cell_type": "markdown",
   "metadata": {
    "id": "PRl0dNlZtGoO"
   },
   "source": [
    "  - Использовать стандартизованные данные\n",
    "\n",
    "  Шаг 1. Получить U, S, VT матрицы\n",
    "\n",
    "  Шаг 2. Из svd разложения получить матрицу ковариации\n",
    "\n",
    "  Шаг 3. Из svd разложения получить собственные вектора, собственные числа и процент объясненной дисперсии\n",
    "\n",
    "  Шаг 4. Из svd разложения восстановить исходные данные по количеству k компонент и по всему набору\n",
    "\n",
    "  Сравнить результаты с результатами полученными в 1 и 2 задании."
   ]
  },
  {
   "cell_type": "markdown",
   "metadata": {
    "id": "W33adYqYttsb"
   },
   "source": [
    "# 4. Выполнить задания 1, 2, 3 для двух матриц df1 и df2, сравнить полученные результаты для разных матриц. Написать выводы по итогам сравнения результатов 1, 2, 3 заданий."
   ]
  }
 ],
 "metadata": {
  "colab": {
   "authorship_tag": "ABX9TyMat6lLCfU0xUokBEV/gJCE",
   "provenance": [
    {
     "file_id": "18ne0flIVkRSyLj3i8qQoiB1T8aLCGzyc",
     "timestamp": 1698343686488
    }
   ]
  },
  "kernelspec": {
   "display_name": "Python 3 (ipykernel)",
   "language": "python",
   "name": "python3"
  },
  "language_info": {
   "codemirror_mode": {
    "name": "ipython",
    "version": 3
   },
   "file_extension": ".py",
   "mimetype": "text/x-python",
   "name": "python",
   "nbconvert_exporter": "python",
   "pygments_lexer": "ipython3",
   "version": "3.10.11"
  }
 },
 "nbformat": 4,
 "nbformat_minor": 4
}
