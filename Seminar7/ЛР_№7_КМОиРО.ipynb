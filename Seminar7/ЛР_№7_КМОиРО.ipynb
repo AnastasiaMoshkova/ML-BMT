{
 "cells": [
  {
   "cell_type": "markdown",
   "metadata": {
    "id": "WrTCZ7Uolh4l"
   },
   "source": [
    "# Задание к лабораторной работе №7 по машинному обучению\n",
    "\n",
    "Дерево решений (DT), случайный лес (RF)"
   ]
  },
  {
   "cell_type": "markdown",
   "metadata": {
    "id": "P6ecVx85YIQY"
   },
   "source": [
    "Cоздать train и test наборы создать с помощью train_test_split, random_state = 42.\n",
    "\n",
    "\n"
   ]
  },
  {
   "cell_type": "code",
   "execution_count": null,
   "metadata": {
    "id": "FxRFJfcrXdi-"
   },
   "outputs": [],
   "source": [
    "from sklearn import datasets\n",
    "\n",
    "data = datasets.load_breast_cancer()"
   ]
  },
  {
   "cell_type": "code",
   "execution_count": null,
   "metadata": {
    "colab": {
     "base_uri": "https://localhost:8080/"
    },
    "id": "hTOVemHAmvhA",
    "outputId": "6440f5d3-21b7-49c0-ba29-deb084e85ed4"
   },
   "outputs": [
    {
     "data": {
      "text/plain": [
       "dict_keys(['data', 'target', 'frame', 'target_names', 'DESCR', 'feature_names', 'filename', 'data_module'])"
      ]
     },
     "execution_count": 2,
     "metadata": {},
     "output_type": "execute_result"
    }
   ],
   "source": [
    "data.keys()"
   ]
  },
  {
   "cell_type": "markdown",
   "metadata": {
    "id": "am9WrUp7JCTJ"
   },
   "source": [
    "## 1. Дерево решений без настройки параметров"
   ]
  },
  {
   "cell_type": "markdown",
   "metadata": {
    "id": "g93S7XbaJCTJ"
   },
   "source": [
    "**Обучите на имеющейся выборке дерево решений (`DecisionTreeClassifier`) максимальной глубины 2. Используйте параметр `random_state=42` для воспроизводимости результатов.**"
   ]
  },
  {
   "cell_type": "markdown",
   "metadata": {
    "id": "5yzlgxQNJCTL"
   },
   "source": [
    "**Отобразите дерево с помощью `export_graphviz` и `dot`.**"
   ]
  },
  {
   "cell_type": "markdown",
   "metadata": {
    "id": "eIQBTktCJCTM"
   },
   "source": [
    "## 2. Дерево решений с настройкой параметров"
   ]
  },
  {
   "cell_type": "markdown",
   "metadata": {
    "id": "9P1izuFCJCTM"
   },
   "source": [
    "**Обучите на имеющейся выборке дерево решений (`DecisionTreeClassifier`). Также укажите `random_state=17`. Максимальную глубину и минимальное число элементов в листе настройте на 5-кратной кросс-валидации с помощью `GridSearchCV`.**"
   ]
  },
  {
   "cell_type": "markdown",
   "metadata": {
    "id": "VodjmuZXJCTN"
   },
   "source": [
    "**Сделайте с помощью полученной модели прогноз для тестовой выборке.** Оценить точность классификации: построить матрицу неточности, рассчитать метрики классификации на test наборе (accuracy, precidion, recall, F1)."
   ]
  },
  {
   "cell_type": "markdown",
   "metadata": {
    "id": "WYkGpfndEvxQ"
   },
   "source": [
    "## 3. Варьирование параметров (DecisionTreeClassifier и RandomForestClassifier) "
   ]
  },
  {
   "cell_type": "markdown",
   "metadata": {
    "id": "QopiDx1BEyUw"
   },
   "source": [
    "Проварьируйте один из параметров DT и RF и постройте графики зависимости значения параметра от точности классификации кросс-валидации. Сравните полученные значения точности классификации.\n",
    "\n"
   ]
  }
 ],
 "metadata": {
  "colab": {
   "provenance": []
  },
  "kernelspec": {
   "display_name": "Python 3 (ipykernel)",
   "language": "python",
   "name": "python3"
  },
  "language_info": {
   "codemirror_mode": {
    "name": "ipython",
    "version": 3
   },
   "file_extension": ".py",
   "mimetype": "text/x-python",
   "name": "python",
   "nbconvert_exporter": "python",
   "pygments_lexer": "ipython3",
   "version": "3.10.11"
  }
 },
 "nbformat": 4,
 "nbformat_minor": 4
}
