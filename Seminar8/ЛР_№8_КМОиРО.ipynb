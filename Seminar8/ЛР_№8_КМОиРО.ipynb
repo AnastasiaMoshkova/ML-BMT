{
 "cells": [
  {
   "cell_type": "markdown",
   "id": "483648d2-74e5-4c7b-8bf6-dab46949beb0",
   "metadata": {},
   "source": [
    "# Задание к лабораторной работе №8 по машинному обучению\n",
    "\n",
    "линейная регрессия, полиномиаьная регрессия, регуляризация, логистическая регрессия "
   ]
  },
  {
   "cell_type": "markdown",
   "id": "dff3ba53-5555-4107-86cc-f50ffeca06c2",
   "metadata": {},
   "source": [
    "Датасет для задачи регрессии - load_diabetes\n",
    "\n",
    "Датасет для задачи классификации - load_breast_cancer"
   ]
  },
  {
   "cell_type": "markdown",
   "id": "d3c3962a-250b-490b-b5ec-2fc715678925",
   "metadata": {},
   "source": [
    "1. Регрессия. Применить линейную (и модели с регуляризацией) и полиномиальную регрессию к датасету load_diabetes. Вывести метрики R2, MSE, MAE для двух моделей. Построить scatterplot predicted vs. true.\n",
    "2. Классификация. Найти оптимальное значение параметра регуляризации $C$ с помощью LogisticRegressionCV – перебора параметров по сетке с последующей кросс-валидацией. Этот класс создан специально для логистической регрессии (для нее известны эффективные алгоритмы перебора параметров), для произвольной модели мы бы использовали GridSearchCV, RandomizedSearchCV. Построить график зависимости метрики ROC-AUC от параметра С.\n",
    "3. Выбрать порог классификации для LogisticRegression на основе метрики  "
   ]
  },
  {
   "cell_type": "code",
   "execution_count": null,
   "id": "b3de543e-1128-4100-9ec6-dc3ea9df4c0d",
   "metadata": {},
   "outputs": [],
   "source": []
  }
 ],
 "metadata": {
  "kernelspec": {
   "display_name": "Python 3 (ipykernel)",
   "language": "python",
   "name": "python3"
  },
  "language_info": {
   "codemirror_mode": {
    "name": "ipython",
    "version": 3
   },
   "file_extension": ".py",
   "mimetype": "text/x-python",
   "name": "python",
   "nbconvert_exporter": "python",
   "pygments_lexer": "ipython3",
   "version": "3.10.11"
  }
 },
 "nbformat": 4,
 "nbformat_minor": 5
}
