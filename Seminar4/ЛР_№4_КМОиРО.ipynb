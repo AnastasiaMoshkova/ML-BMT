{
 "cells": [
  {
   "cell_type": "markdown",
   "metadata": {
    "id": "WrTCZ7Uolh4l"
   },
   "source": [
    "# Лабораторная работа №4 по курсу \"Распознавание образов\"\n",
    "\n",
    "# Линейный дискриминантный анализ (LDA)"
   ]
  },
  {
   "cell_type": "markdown",
   "metadata": {
    "id": "P6ecVx85YIQY"
   },
   "source": [
    "Применение LDA \"вручную\" и \"из коробки\". Произвести снижение размерности данных в датасете load_breast_cancer() с использованием LDA, получить проекционную плоскость, построить гистограммы распредления данных после проекции, определить порог классификации.Произвести классификацию с LDA, построить матрицу неточности на train и test наборах.\n",
    "\n",
    "Cравнить полученные вектора W, средние значения, результаты проекции, сделать выводы.\n",
    "\n",
    "Предварительно создать train и test наборы создать с помощью train_test_split, random_state = 42, чтобы у всех получились одинаковые результаты. Оцените количество объектов в каждом классе.\n",
    "\n",
    "\n",
    "\"Вручную\":\n",
    "\n",
    "1. Рассчитать среднее векторов признаков для классов\n",
    "2. Расчитать матрицы внутриклассовых разбросов и общую матрицу внутриклассового разброса. (еще нормировать на общее число примеров в train наборе)\n",
    "2. Расчитать проекционный вектор\n",
    "4. Получить проекцию данных\n",
    "5. Построить гистограммы распредления новых признаков\n",
    "6. Найти порог класификации\n",
    "7. Оценить точность классификации на test наборе: построить матрицу неточности.\n",
    "\n",
    "\"Из коробки\":\n",
    "1. Применить LinearDiscriminantAnalysis() с разными solver (solver{‘svd’, ‘lsqr’, ‘eigen’}) к train набору\n",
    "2. Сравнить средние значения классов с значеними из предыдущего метода\n",
    "3. Сравнить вектор W проекции с вектором из предыдущего метода\n",
    "4. Выполнить transform и получить проекцию данных\n",
    "5. Сравнить полученные распределения проекций данных классов с распредлением из предыдущего метода, сравнить реузльтат для разных solver\n",
    "6. Оценить точность классификации на test наборе: построить матрицу неточности.\n",
    "\n",
    "В итоге лучше всего написать функцию которая построит subplots распредлений данных в виде гистограммы для всех перечисленных методов и функцию для оценки точности классификации.\n",
    "\n",
    "Сделать выводы. Ответить на вопросы:\n",
    "1. Какая размернить данных получилась в итоге применения метода снижения размерности LDA?\n",
    "2. Как определить какое количество признаков получится в итоге примнения метода снижения размерности признаков с LDA? А с PCA?\n",
    "3. Чем отлтичаются LDA и PCA?\n",
    "4. Что такое матрица неточности (confusion matrix)?\n",
    "5. Зачем делить выборку на train и test? Почему мы не создали еще и val набор?\n",
    "6. Зачем фиксировать random_state?\n",
    "7. Есть ли в данной задаче дисбалланс классов?\n",
    "8. Что такое задача классификации и сколько классов в данном датасете?"
   ]
  },
  {
   "cell_type": "code",
   "execution_count": 14,
   "metadata": {
    "id": "FxRFJfcrXdi-"
   },
   "outputs": [],
   "source": [
    "from sklearn import datasets\n",
    "import numpy as np\n",
    "from sklearn.model_selection import train_test_split\n",
    "\n",
    "data = datasets.load_breast_cancer()"
   ]
  },
  {
   "cell_type": "code",
   "execution_count": 5,
   "metadata": {
    "colab": {
     "base_uri": "https://localhost:8080/"
    },
    "id": "hTOVemHAmvhA",
    "outputId": "6440f5d3-21b7-49c0-ba29-deb084e85ed4"
   },
   "outputs": [
    {
     "data": {
      "text/plain": [
       "dict_keys(['data', 'target', 'frame', 'target_names', 'DESCR', 'feature_names', 'filename', 'data_module'])"
      ]
     },
     "execution_count": 5,
     "metadata": {},
     "output_type": "execute_result"
    }
   ],
   "source": [
    "data.keys()"
   ]
  },
  {
   "cell_type": "code",
   "execution_count": 6,
   "metadata": {
    "id": "z75YHzskxLbE"
   },
   "outputs": [
    {
     "data": {
      "text/plain": [
       "94.2725320292453"
      ]
     },
     "execution_count": 6,
     "metadata": {},
     "output_type": "execute_result"
    }
   ],
   "source": [
    "np.mean(data['data'][data['target']==0])"
   ]
  },
  {
   "cell_type": "code",
   "execution_count": 15,
   "metadata": {},
   "outputs": [],
   "source": [
    "X_train, X_test, y_train, y_test = train_test_split(data['data'], data['target'], test_size=0.33, random_state=42)"
   ]
  },
  {
   "cell_type": "code",
   "execution_count": 16,
   "metadata": {},
   "outputs": [
    {
     "name": "stdout",
     "output_type": "stream",
     "text": [
      "(381, 30) (188, 30) (381,) (188,)\n"
     ]
    }
   ],
   "source": [
    "print(X_train.shape, X_test.shape, y_train.shape, y_test.shape)"
   ]
  },
  {
   "cell_type": "code",
   "execution_count": null,
   "metadata": {},
   "outputs": [],
   "source": []
  }
 ],
 "metadata": {
  "colab": {
   "provenance": []
  },
  "kernelspec": {
   "display_name": "Python 3 (ipykernel)",
   "language": "python",
   "name": "python3"
  },
  "language_info": {
   "codemirror_mode": {
    "name": "ipython",
    "version": 3
   },
   "file_extension": ".py",
   "mimetype": "text/x-python",
   "name": "python",
   "nbconvert_exporter": "python",
   "pygments_lexer": "ipython3",
   "version": "3.10.11"
  }
 },
 "nbformat": 4,
 "nbformat_minor": 4
}
