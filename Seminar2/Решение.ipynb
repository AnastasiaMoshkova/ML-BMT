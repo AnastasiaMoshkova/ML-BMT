{
 "cells": [
  {
   "cell_type": "code",
   "execution_count": null,
   "id": "7c0813fc-5374-4071-9ca3-64ac1f681b85",
   "metadata": {},
   "outputs": [],
   "source": [
    "import pandas as pd\n",
    "df = pd.read_csv(\"C:\\\\Users\\\\kafed\\\\Downloads\\\\label_dataset.xlsx.csv\")\n",
    "df = df.drop(columns = 'Unnamed: 0')\n",
    "res = []\n",
    "for i in [0,1,2,3,4,5,6]:\n",
    "    res.append(df[df['label']==i].iloc[1:3])\n",
    "df = pd.concat(res).reset_index(drop=True) #.to_csv('dataset.csv')\n",
    "df"
   ]
  },
  {
   "cell_type": "code",
   "execution_count": null,
   "id": "5745f10d-647c-46c8-8071-e11f35bf61ea",
   "metadata": {},
   "outputs": [],
   "source": [
    "import matplotlib.pyplot as plt\n",
    "import matplotlib.image as mpimg\n",
    "import shutil\n",
    "import os\n",
    "\n",
    "for filename in df['file name'].values:\n",
    "    #img = mpimg.imread(os.path.join(\"C:\\\\Users\\\\kafed\\\\Downloads\\\\all\", filename))\n",
    "    shutil.copy(os.path.join(\"C:\\\\Users\\\\kafed\\\\Downloads\\\\all\", filename), os.path.join(\"D:\\courses\\ML-BMT\\Seminar2\\images\", filename))\n",
    "    #plt.imshow(img)\n",
    "    #plt.show()"
   ]
  },
  {
   "cell_type": "code",
   "execution_count": null,
   "id": "cf5815a9-8b7a-4668-8556-0e085f3ad279",
   "metadata": {},
   "outputs": [],
   "source": [
    "#Загружаем изображение\n",
    "img = cv2.imread('image2.png')\n",
    "\n",
    "#задайте параметры филтра Габора\n",
    "ksize = # ваш код\n",
    "sigma = # ваш код\n",
    "theta = # ваш код\n",
    "lambd = # ваш код\n",
    "gamma = # ваш код\n",
    "\n",
    "# примените функцию getGaborKernel из opencv для создания фильра\n",
    "gabor = cv2.getGaborKernel(ksize, sigma, theta, lambd, gamma)\n",
    "# примените gabor kernel к изображению\n",
    "target_image = cv2.filter2D(img, -1, gabor)\n",
    "# визуализируйте изображение\n",
    "plt.imshow(target_image)"
   ]
  },
  {
   "cell_type": "code",
   "execution_count": null,
   "id": "6c750cc6-f861-4771-b1b7-76398197f572",
   "metadata": {},
   "outputs": [],
   "source": [
    "#Загружаем изображение\n",
    "img = Image.open('image2.png').convert('L')\n",
    "\n",
    "# применение фильтров к исходному изображению\n",
    "fig2, axs_2 = plt.subplots(5, 8, figsize=(8, 8))\n",
    "for i in range(5):\n",
    "    for j in range(8):\n",
    "        # ваш код\n",
    "        #rez_conv = signal.convolve2d(img, F[j*5+i])\n",
    "        axs_2[i,j].imshow(np.real(rez_conv), cmap='gray')\n",
    "\n",
    "plt.show()"
   ]
  },
  {
   "cell_type": "code",
   "execution_count": null,
   "id": "a166b830-f00a-4ae1-acca-ac7972ecf28c",
   "metadata": {},
   "outputs": [],
   "source": [
    "image=np.array([[1,5],[2,4]],dtype='uint8')\n",
    "summ,sqsumm,titled= cv2.integral3(image)\n",
    "summ"
   ]
  },
  {
   "cell_type": "code",
   "execution_count": null,
   "id": "5efc5023-b87e-4865-8fdf-fdeac41ce43a",
   "metadata": {},
   "outputs": [],
   "source": [
    "#рассчитаем среднюю яркость в выделенной области по исходному изображению\n",
    "meanL=[]\n",
    "for i in range(1,3,1):\n",
    "  for j in range(1,4,1):\n",
    "    meanL.append(image[i][j])\n",
    "    print(image[i][j], end = \" \")\n",
    "print('Средняя яркость', round(sum(meanL)/len(meanL),3),sum(meanL),len(meanL))"
   ]
  },
  {
   "cell_type": "code",
   "execution_count": null,
   "id": "b21057f4-6db8-4d3b-8838-2fa9f9e159dc",
   "metadata": {},
   "outputs": [],
   "source": [
    "#рассчитаем среднюю яркость в выделенной области по интегральному изображению\n",
    "#[i=1,j=1] [i=3,j=3]\n",
    "left_top=[1,1]\n",
    "right_down=[3,3]\n",
    "print(summ[left_top[0]][left_top[1]],summ[right_down[0]][right_down[1]+1],\n",
    "      summ[left_top[0]][right_down[1]+1],summ[right_down[0]][left_top[1]])\n",
    "meanL=summ[left_top[0]][left_top[1]]+summ[right_down[0]][right_down[1]+1]-\\\n",
    "      summ[left_top[0]][right_down[1]+1]-summ[right_down[0]][left_top[1]]\n",
    "print('Средняя яркость', round(meanL/6,3),meanL)"
   ]
  }
 ],
 "metadata": {
  "kernelspec": {
   "display_name": "Python 3 (ipykernel)",
   "language": "python",
   "name": "python3"
  },
  "language_info": {
   "codemirror_mode": {
    "name": "ipython",
    "version": 3
   },
   "file_extension": ".py",
   "mimetype": "text/x-python",
   "name": "python",
   "nbconvert_exporter": "python",
   "pygments_lexer": "ipython3",
   "version": "3.10.11"
  }
 },
 "nbformat": 4,
 "nbformat_minor": 5
}
