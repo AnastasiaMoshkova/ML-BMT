{
 "cells": [
  {
   "cell_type": "markdown",
   "metadata": {
    "id": "7y5nLug_X1XX"
   },
   "source": [
    "# Лабораторная работа №2\n",
    "\n",
    "## Применение фильтров Габора для формирования вектора признаков в задаче классификации эмоций"
   ]
  },
  {
   "cell_type": "markdown",
   "metadata": {
    "id": "x_unYHj6XtmB"
   },
   "source": [
    "Задание к лабораторной работе:\n",
    "\n",
    "1. Возьмите изображения из папки на диске \"images\" и файл с метками классов соответствующие 7 эмоциям \"dataset.csv\" (14 изображений, по 2 изображения для каждого класса)\n",
    "2. Загрузите необходимые модули и ознакомьтесь с данными (допишите код, где это необходимо)\n",
    "3. Выполните предобработку данных (допишите код, где это необходимо)\n",
    "4. Напишите необходимый код для применнеия фильтров Габора с заданными параметрами к изображениям, сормируйте вектор признаков для каждого изображения\n",
    "5. Попробуйте разобраться какая последовательность действий была выполнена перед извлечением признаков\n"
   ]
  },
  {
   "cell_type": "markdown",
   "metadata": {
    "id": "NtK973pPIK15"
   },
   "source": [
    "## **Загрузка данных и необходимых модулей**"
   ]
  },
  {
   "cell_type": "code",
   "execution_count": 30,
   "metadata": {
    "id": "8v-bG-IsLCeP"
   },
   "outputs": [
    {
     "name": "stderr",
     "output_type": "stream",
     "text": [
      "C:\\Users\\kafed\\AppData\\Local\\Temp\\ipykernel_6876\\163448537.py:10: DeprecationWarning: Please use `gaussian_filter` from the `scipy.ndimage` namespace, the `scipy.ndimage.filters` namespace is deprecated.\n",
      "  from scipy.ndimage.filters import gaussian_filter\n"
     ]
    }
   ],
   "source": [
    "# Import libraries\n",
    "import pandas as pd\n",
    "import numpy as np\n",
    "import os\n",
    "import cv2\n",
    "from  matplotlib import pyplot as plt\n",
    "import matplotlib.image as mpimg\n",
    "%matplotlib inline\n",
    "\n",
    "from scipy.ndimage.filters import gaussian_filter\n",
    "import PIL.Image\n",
    "import collections\n",
    "import pylab as pl"
   ]
  },
  {
   "cell_type": "code",
   "execution_count": null,
   "metadata": {
    "colab": {
     "base_uri": "https://localhost:8080/"
    },
    "id": "vyDLZnxXpijr",
    "outputId": "be6fa798-ce13-432f-b53b-7c84eff1e638"
   },
   "outputs": [
    {
     "name": "stdout",
     "output_type": "stream",
     "text": [
      "Collecting face_recognition\n",
      "  Downloading face_recognition-1.3.0-py2.py3-none-any.whl (15 kB)\n",
      "Requirement already satisfied: dlib>=19.7 in /usr/local/lib/python3.7/dist-packages (from face_recognition) (19.18.0)\n",
      "Collecting face-recognition-models>=0.3.0\n",
      "  Downloading face_recognition_models-0.3.0.tar.gz (100.1 MB)\n",
      "\u001b[K     |████████████████████████████████| 100.1 MB 24 kB/s \n",
      "\u001b[?25hRequirement already satisfied: Pillow in /usr/local/lib/python3.7/dist-packages (from face_recognition) (7.1.2)\n",
      "Requirement already satisfied: numpy in /usr/local/lib/python3.7/dist-packages (from face_recognition) (1.21.6)\n",
      "Requirement already satisfied: Click>=6.0 in /usr/local/lib/python3.7/dist-packages (from face_recognition) (7.1.2)\n",
      "Building wheels for collected packages: face-recognition-models\n",
      "  Building wheel for face-recognition-models (setup.py) ... \u001b[?25l\u001b[?25hdone\n",
      "  Created wheel for face-recognition-models: filename=face_recognition_models-0.3.0-py2.py3-none-any.whl size=100566186 sha256=6a51c6ebc49e4c688fa13ba07ab8d145fd501d464622d680c7cde0e304048a51\n",
      "  Stored in directory: /root/.cache/pip/wheels/d6/81/3c/884bcd5e1c120ff548d57c2ecc9ebf3281c9a6f7c0e7e7947a\n",
      "Successfully built face-recognition-models\n",
      "Installing collected packages: face-recognition-models, face-recognition\n",
      "Successfully installed face-recognition-1.3.0 face-recognition-models-0.3.0\n"
     ]
    }
   ],
   "source": [
    "# Загружаем детектор лиц\n",
    "!pip install face_recognition # GPU active needed\n",
    "import face_recognition as fr"
   ]
  },
  {
   "cell_type": "code",
   "execution_count": 31,
   "metadata": {
    "id": "pLueobTu_OZU"
   },
   "outputs": [],
   "source": [
    "# Получает список изображений в папке\n",
    "def getListOfFiles(dirName):\n",
    "    listOfFile = os.listdir(dirName)\n",
    "    allFiles = list()\n",
    "    for entry in listOfFile:\n",
    "        fullPath = os.path.join(dirName, entry)\n",
    "        if os.path.isdir(fullPath):\n",
    "            allFiles = allFiles + getListOfFiles(fullPath)\n",
    "        else:\n",
    "            allFiles.append(fullPath)\n",
    "    return allFiles"
   ]
  },
  {
   "cell_type": "code",
   "execution_count": 32,
   "metadata": {
    "colab": {
     "base_uri": "https://localhost:8080/"
    },
    "id": "vGVmZDcW_zsB",
    "outputId": "4f184330-1bce-4d84-b1b1-89ffe35864b4"
   },
   "outputs": [
    {
     "data": {
      "text/plain": [
       "14"
      ]
     },
     "execution_count": 32,
     "metadata": {},
     "output_type": "execute_result"
    }
   ],
   "source": [
    "image_folder = r'images'\n",
    "img_files_list = getListOfFiles(image_folder)\n",
    "len(img_files_list)"
   ]
  },
  {
   "cell_type": "code",
   "execution_count": 33,
   "metadata": {
    "colab": {
     "base_uri": "https://localhost:8080/",
     "height": 424
    },
    "id": "xPJhknKkSguU",
    "outputId": "5b2620cc-70a8-4ac6-c416-4a90e4fa49ab"
   },
   "outputs": [
    {
     "data": {
      "text/html": [
       "<div>\n",
       "<style scoped>\n",
       "    .dataframe tbody tr th:only-of-type {\n",
       "        vertical-align: middle;\n",
       "    }\n",
       "\n",
       "    .dataframe tbody tr th {\n",
       "        vertical-align: top;\n",
       "    }\n",
       "\n",
       "    .dataframe thead th {\n",
       "        text-align: right;\n",
       "    }\n",
       "</style>\n",
       "<table border=\"1\" class=\"dataframe\">\n",
       "  <thead>\n",
       "    <tr style=\"text-align: right;\">\n",
       "      <th></th>\n",
       "      <th>label</th>\n",
       "      <th>file name</th>\n",
       "    </tr>\n",
       "  </thead>\n",
       "  <tbody>\n",
       "    <tr>\n",
       "      <th>0</th>\n",
       "      <td>0</td>\n",
       "      <td>S005_001_00000001.png</td>\n",
       "    </tr>\n",
       "    <tr>\n",
       "      <th>1</th>\n",
       "      <td>0</td>\n",
       "      <td>S010_001_00000001.png</td>\n",
       "    </tr>\n",
       "    <tr>\n",
       "      <th>2</th>\n",
       "      <td>1</td>\n",
       "      <td>S010_004_00000019.png</td>\n",
       "    </tr>\n",
       "    <tr>\n",
       "      <th>3</th>\n",
       "      <td>1</td>\n",
       "      <td>S011_004_00000021.png</td>\n",
       "    </tr>\n",
       "    <tr>\n",
       "      <th>4</th>\n",
       "      <td>2</td>\n",
       "      <td>S138_008_00000009.png</td>\n",
       "    </tr>\n",
       "    <tr>\n",
       "      <th>5</th>\n",
       "      <td>2</td>\n",
       "      <td>S139_002_00000013.png</td>\n",
       "    </tr>\n",
       "    <tr>\n",
       "      <th>6</th>\n",
       "      <td>3</td>\n",
       "      <td>S005_001_00000011.png</td>\n",
       "    </tr>\n",
       "    <tr>\n",
       "      <th>7</th>\n",
       "      <td>3</td>\n",
       "      <td>S011_005_00000020.png</td>\n",
       "    </tr>\n",
       "    <tr>\n",
       "      <th>8</th>\n",
       "      <td>4</td>\n",
       "      <td>S011_003_00000014.png</td>\n",
       "    </tr>\n",
       "    <tr>\n",
       "      <th>9</th>\n",
       "      <td>4</td>\n",
       "      <td>S032_004_00000014.png</td>\n",
       "    </tr>\n",
       "    <tr>\n",
       "      <th>10</th>\n",
       "      <td>5</td>\n",
       "      <td>S010_006_00000015.png</td>\n",
       "    </tr>\n",
       "    <tr>\n",
       "      <th>11</th>\n",
       "      <td>5</td>\n",
       "      <td>S011_006_00000013.png</td>\n",
       "    </tr>\n",
       "    <tr>\n",
       "      <th>12</th>\n",
       "      <td>6</td>\n",
       "      <td>S010_002_00000014.png</td>\n",
       "    </tr>\n",
       "    <tr>\n",
       "      <th>13</th>\n",
       "      <td>6</td>\n",
       "      <td>S011_001_00000016.png</td>\n",
       "    </tr>\n",
       "  </tbody>\n",
       "</table>\n",
       "</div>"
      ],
      "text/plain": [
       "    label              file name\n",
       "0       0  S005_001_00000001.png\n",
       "1       0  S010_001_00000001.png\n",
       "2       1  S010_004_00000019.png\n",
       "3       1  S011_004_00000021.png\n",
       "4       2  S138_008_00000009.png\n",
       "5       2  S139_002_00000013.png\n",
       "6       3  S005_001_00000011.png\n",
       "7       3  S011_005_00000020.png\n",
       "8       4  S011_003_00000014.png\n",
       "9       4  S032_004_00000014.png\n",
       "10      5  S010_006_00000015.png\n",
       "11      5  S011_006_00000013.png\n",
       "12      6  S010_002_00000014.png\n",
       "13      6  S011_001_00000016.png"
      ]
     },
     "execution_count": 33,
     "metadata": {},
     "output_type": "execute_result"
    }
   ],
   "source": [
    "#прочитаем файл с метками классов\n",
    "'''\n",
    "0-neutral\n",
    "1-anger\n",
    "2-contempt\n",
    "3-disgust\n",
    "4-fear\n",
    "5-happiness\n",
    "6-surprise\n",
    "'''\n",
    "pd.read_csv('dataset.csv', index_col=0)"
   ]
  },
  {
   "cell_type": "code",
   "execution_count": null,
   "metadata": {
    "id": "T4w_liWZTJcd"
   },
   "outputs": [],
   "source": [
    "# вывести по одному изображению для каждого класса\n",
    "\n",
    "'''\n",
    "ваш код\n",
    "'''"
   ]
  },
  {
   "cell_type": "markdown",
   "metadata": {
    "id": "5ACsMb1Rriqj"
   },
   "source": [
    "## Предобработка изображений"
   ]
  },
  {
   "cell_type": "code",
   "execution_count": null,
   "metadata": {
    "id": "n0S5-0zgrozX"
   },
   "outputs": [],
   "source": [
    "def ImagePreProcessing(data, sigma_GF, IMG_HEIGHT, IMG_WIDTH):\n",
    "  X = []\n",
    "  for image in data:\n",
    "    # напишите код применения фильтра Гаусса (с sigma_GF) к изображению выведите одно изображение для примера\n",
    "    image = cv2.imread(image)\n",
    "    image = cv2.cvtColor(image,cv2.COLOR_BGR2GRAY);\n",
    "\n",
    "    '''\n",
    "    ваш код\n",
    "    '''\n",
    "\n",
    "    # Face detection + crop\n",
    "    face_loc = fr.face_locations(img = image_GF, model='hog')\n",
    "    if len(face_loc)>1:\n",
    "      face_loc=[(face_loc[0])]\n",
    "    print(face_loc)\n",
    "    a = collections.deque(*face_loc)\n",
    "    a.rotate(1)\n",
    "    shifted = list(a)\n",
    "    img = PIL.Image.fromarray(image_GF)\n",
    "    img2 = img.crop((shifted))\n",
    "    image_CROPPED = np.array(img2)\n",
    "\n",
    "    # выполните эквализацию гистограммы с cv2.createCLAHE\n",
    "    '''\n",
    "    ваш код\n",
    "    '''\n",
    "\n",
    "    # Scale\n",
    "    image_SCALED = PIL.Image.fromarray(image_CLAHE).resize((IMG_HEIGHT, IMG_WIDTH))\n",
    "\n",
    "    X.append(np.array(image_SCALED))\n",
    "\n",
    "  X = np.array(X)\n",
    "  return X"
   ]
  },
  {
   "cell_type": "code",
   "execution_count": null,
   "metadata": {
    "id": "5xWUGEwOonm7"
   },
   "outputs": [],
   "source": [
    "#визуализировать применение фильтра Гаусса к одному изображению (до/после)"
   ]
  },
  {
   "cell_type": "code",
   "execution_count": null,
   "metadata": {
    "id": "PT_TGOXNo1fs"
   },
   "outputs": [],
   "source": [
    "#визуализировать применение эквализации гистограммы к одному изображению (до/после)"
   ]
  },
  {
   "cell_type": "code",
   "execution_count": null,
   "metadata": {
    "id": "EX1qVUw_vbzN"
   },
   "outputs": [],
   "source": [
    "#применение функции для преобработки данных\n",
    "image_folder = r'images'\n",
    "img_files_list = getListOfFiles(image_folder)\n",
    "X_processed = ImagePreProcessing(img_files_list, 1, 64, 64)"
   ]
  },
  {
   "cell_type": "markdown",
   "metadata": {
    "id": "b7RLoqQePhqa"
   },
   "source": [
    "## **Извлечение признаков с фильтрами Габбора**\n"
   ]
  },
  {
   "cell_type": "code",
   "execution_count": null,
   "metadata": {
    "id": "cKBLKlAtVb5X"
   },
   "outputs": [],
   "source": [
    "# напишите функцию (GaborFiltersFeatures) для создания 8 фильтров Габора (cv2.getGaborKernel) со следующими параметрами\n",
    "theta_range = np.arange(0, np.pi, np.pi/8)\n",
    "lamda = 3*np.pi/4\n",
    "gamma = 0.5\n",
    "sigma = 0.75 #4.3\n",
    "ksize = 9\n",
    "phi = 0\n",
    "\n",
    "'''\n",
    "ваш код\n",
    "'''"
   ]
  },
  {
   "cell_type": "code",
   "execution_count": null,
   "metadata": {
    "id": "B32Hy7HXXlzQ"
   },
   "outputs": [],
   "source": [
    "X_features = GaborFiltersFeatures(X_processed, ksize, sigma, theta_range, lamda, gamma, phi)\n",
    "X_features.shape"
   ]
  },
  {
   "cell_type": "code",
   "execution_count": null,
   "metadata": {
    "id": "4HgCUXQsUn2A"
   },
   "outputs": [],
   "source": [
    "# напишите код для визуализации фильтров Габора с\n",
    "'''\n",
    "ваш код\n",
    "'''"
   ]
  },
  {
   "cell_type": "code",
   "execution_count": null,
   "metadata": {
    "id": "0S0MMbNXU4hv"
   },
   "outputs": [],
   "source": [
    "# примените фильтры Габора к любому изображению из датасета, выведите, что получилось (изображения)\n",
    "'''\n",
    "ваш код\n",
    "'''"
   ]
  },
  {
   "cell_type": "code",
   "execution_count": null,
   "metadata": {},
   "outputs": [],
   "source": [
    "# примените фильтры Габора к всем изображениям из датасета, выведите размерность матрицы признаков всего датасета\n",
    "'''\n",
    "ваш код\n",
    "'''"
   ]
  }
 ],
 "metadata": {
  "accelerator": "GPU",
  "colab": {
   "provenance": []
  },
  "kernelspec": {
   "display_name": "Python 3 (ipykernel)",
   "language": "python",
   "name": "python3"
  },
  "language_info": {
   "codemirror_mode": {
    "name": "ipython",
    "version": 3
   },
   "file_extension": ".py",
   "mimetype": "text/x-python",
   "name": "python",
   "nbconvert_exporter": "python",
   "pygments_lexer": "ipython3",
   "version": "3.10.11"
  }
 },
 "nbformat": 4,
 "nbformat_minor": 4
}
