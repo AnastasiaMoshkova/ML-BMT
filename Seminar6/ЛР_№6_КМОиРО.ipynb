{
 "cells": [
  {
   "cell_type": "markdown",
   "id": "03c5a04f-0c48-42bd-a4e6-6f440231c26c",
   "metadata": {},
   "source": [
    "# Задание к лабораторной работе №6 по машинному обучению\n",
    "\n",
    "QDA, k-NN, GridSearch, CV"
   ]
  },
  {
   "cell_type": "markdown",
   "id": "3b2fb579-f60b-49e6-8ab0-6ced9933f94d",
   "metadata": {},
   "source": [
    "1. Примените QDA, LDA, k-NN к датесету, пердварительно разделив его на train test, сформируйте таблицу результатов классификации с метриками accuracy, precidion, recall, F1\n",
    "2. Примените QDA, LDA, k-NN к датесету в режиме кросс-валидации с количеством фолдов 3,5,10, сформируйте таблицу результатов классификации с метриками accuracy, precidion, recall, F1\n",
    "3. Подберите параметр k для алгоритма k-NN с помощью GridSearchCV, постройте график зависимости k от точности классификации"
   ]
  }
 ],
 "metadata": {
  "kernelspec": {
   "display_name": "Python 3 (ipykernel)",
   "language": "python",
   "name": "python3"
  },
  "language_info": {
   "codemirror_mode": {
    "name": "ipython",
    "version": 3
   },
   "file_extension": ".py",
   "mimetype": "text/x-python",
   "name": "python",
   "nbconvert_exporter": "python",
   "pygments_lexer": "ipython3",
   "version": "3.10.11"
  }
 },
 "nbformat": 4,
 "nbformat_minor": 5
}
