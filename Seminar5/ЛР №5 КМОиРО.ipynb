{
 "cells": [
  {
   "cell_type": "markdown",
   "metadata": {
    "id": "WrTCZ7Uolh4l"
   },
   "source": [
    "# Задание к лабораторной работе №5 по машинному обучению\n",
    "\n",
    "Наивный байесовский классификатор (NB), метрики"
   ]
  },
  {
   "cell_type": "markdown",
   "metadata": {
    "id": "P6ecVx85YIQY"
   },
   "source": [
    "Применение NB по формуле и из пакета sklearn.\n",
    "\n",
    "Cоздать train и test наборы создать с помощью train_test_split, random_state = 42.\n",
    "\n",
    "Оценить точность классификации на test наборе: построить матрицу неточности, рассчитать метрики классификации на test наборе (accuracy, precidion, recall, F1).\n",
    "\n",
    "Сравнить результаты рассчетов по формуле и из пакета sklearn.\n",
    "\n",
    "Из пакета sklearn напечатать значение атрибутов https://scikit-learn.org/stable/modules/generated/sklearn.naive_bayes.GaussianNB.html\n",
    "\n"
   ]
  },
  {
   "cell_type": "code",
   "execution_count": 4,
   "metadata": {
    "id": "FxRFJfcrXdi-"
   },
   "outputs": [],
   "source": [
    "from sklearn import datasets\n",
    "import numpy as np\n",
    "\n",
    "data = datasets.load_breast_cancer()"
   ]
  },
  {
   "cell_type": "code",
   "execution_count": 5,
   "metadata": {
    "colab": {
     "base_uri": "https://localhost:8080/"
    },
    "executionInfo": {
     "elapsed": 4,
     "status": "ok",
     "timestamp": 1700298871053,
     "user": {
      "displayName": "Anastasia Moshkova",
      "userId": "17895988911170149439"
     },
     "user_tz": -180
    },
    "id": "hTOVemHAmvhA",
    "outputId": "6440f5d3-21b7-49c0-ba29-deb084e85ed4"
   },
   "outputs": [
    {
     "data": {
      "text/plain": [
       "dict_keys(['data', 'target', 'frame', 'target_names', 'DESCR', 'feature_names', 'filename', 'data_module'])"
      ]
     },
     "execution_count": 5,
     "metadata": {},
     "output_type": "execute_result"
    }
   ],
   "source": [
    "data.keys()"
   ]
  },
  {
   "cell_type": "code",
   "execution_count": 6,
   "metadata": {
    "id": "z75YHzskxLbE"
   },
   "outputs": [
    {
     "data": {
      "text/plain": [
       "94.2725320292453"
      ]
     },
     "execution_count": 6,
     "metadata": {},
     "output_type": "execute_result"
    }
   ],
   "source": [
    "np.mean(data['data'][data['target']==0])"
   ]
  },
  {
   "cell_type": "code",
   "execution_count": null,
   "metadata": {},
   "outputs": [],
   "source": []
  }
 ],
 "metadata": {
  "colab": {
   "authorship_tag": "ABX9TyNIUBKrhe90lTOdcDCGd/UE",
   "provenance": []
  },
  "kernelspec": {
   "display_name": "Python 3 (ipykernel)",
   "language": "python",
   "name": "python3"
  },
  "language_info": {
   "codemirror_mode": {
    "name": "ipython",
    "version": 3
   },
   "file_extension": ".py",
   "mimetype": "text/x-python",
   "name": "python",
   "nbconvert_exporter": "python",
   "pygments_lexer": "ipython3",
   "version": "3.10.11"
  }
 },
 "nbformat": 4,
 "nbformat_minor": 4
}
